{
 "cells": [
  {
   "cell_type": "code",
   "execution_count": 4,
   "metadata": {},
   "outputs": [
    {
     "name": "stdout",
     "output_type": "stream",
     "text": [
      "Logistic Regression Score: 0.903333333333\n"
     ]
    }
   ],
   "source": [
    "import pandas as pd\n",
    "import numpy as np\n",
    "from sklearn.linear_model import LogisticRegression\n",
    "from sklearn import model_selection\n",
    "from sklearn.model_selection import train_test_split\n",
    "from sklearn.model_selection import cross_val_score\n",
    "\n",
    "# # Trying out\n",
    "# import seaborn as sns\n",
    "# sns.set(style=\"white\")\n",
    "# sns.set(style=\"whitegrid\", color_codes=True)\n",
    "\n",
    "df = pd.read_csv('./simulated_data.csv')\n",
    "df_without_id = df.drop('id', 1)\n",
    "\n",
    "X = df_without_id[:].drop('nograd', 1)\n",
    "y = df_without_id.loc[:, 'nograd']\n",
    "\n",
    "X_train, X_test, y_train, y_test = train_test_split(X, y, test_size=0.3, random_state=0)\n",
    "log_reg = LogisticRegression().fit(X_train, y_train)\n",
    "y_pred = log_reg.predict(X_test)\n",
    "log_reg_score = log_reg.score(X_test, y_test)\n",
    "print(\"Logistic Regression Score: %s\" % (log_reg_score))"
   ]
  },
  {
   "cell_type": "code",
   "execution_count": 5,
   "metadata": {},
   "outputs": [
    {
     "name": "stdout",
     "output_type": "stream",
     "text": [
      "     y_pred  y_test\n",
      "906       0       1\n",
      "760       0       1\n",
      "366       1       1\n",
      "783       0       1\n",
      "531       0       1\n",
      "389       0       1\n",
      "601       0       1\n",
      "108       0       1\n",
      "785       1       1\n",
      "317       0       1\n",
      "780       0       1\n",
      "529       0       1\n",
      "54        0       1\n",
      "975       0       1\n",
      "999       0       1\n",
      "467       0       1\n",
      "834       0       1\n",
      "679       0       1\n",
      "814       0       1\n",
      "518       0       1\n",
      "113       0       1\n",
      "40        0       1\n",
      "18        1       1\n",
      "200       0       1\n",
      "944       1       1\n",
      "50        0       1\n",
      "700       0       1\n",
      "998       0       1\n"
     ]
    }
   ],
   "source": [
    "pred_test_values = pd.DataFrame( {'y_pred': y_pred, 'y_test': y_test} )\n",
    "true_and_false_positives = pred_test_values.loc[ pred_test_values['y_test'] == 1 ]\n",
    "print(true_and_false_positives)\n",
    "# Observations:\n",
    "# 1. It has only detected 4 out of 28 actual dropouts. \n",
    "#    We will need to increase this score.\n",
    "# 2. But score is high due to more number of true negatives."
   ]
  },
  {
   "cell_type": "code",
   "execution_count": 6,
   "metadata": {
    "collapsed": true
   },
   "outputs": [],
   "source": [
    "# # TODO: Read about this KFold\n",
    "# kfold = model_selection.KFold(n_splits=10, random_state=7)\n",
    "# model_to_cross_validate = LogisticRegression()\n",
    "# scoring = 'accuracy'\n",
    "# results = model_selection.cross_val_score(model_to_cross_validate, X_train, y_train, cv=kfold, scoring=scoring)\n",
    "# print(\"10-fold cross validation average accuracy: %.3f\" % (results.mean()))"
   ]
  },
  {
   "cell_type": "code",
   "execution_count": 8,
   "metadata": {},
   "outputs": [
    {
     "name": "stdout",
     "output_type": "stream",
     "text": [
      "f1_score: 0.216216216216\n"
     ]
    }
   ],
   "source": [
    "from sklearn.metrics import f1_score\n",
    "\n",
    "# Use f1 score\n",
    "# Precision vs Recall\n",
    "# Precision => number of correct positive results divided by the number of all positive results returned by the classifier\n",
    "# Recall    => number of correct positive results divided by the number of all relevant samples (all samples that should have been identified as positive)\n",
    "f1_score = f1_score(y_test, y_pred)\n",
    "\n",
    "print(\"f1_score: %s\" % f1_score)"
   ]
  }
 ],
 "metadata": {
  "kernelspec": {
   "display_name": "Python 2",
   "language": "python",
   "name": "python2"
  },
  "language_info": {
   "codemirror_mode": {
    "name": "ipython",
    "version": 2
   },
   "file_extension": ".py",
   "mimetype": "text/x-python",
   "name": "python",
   "nbconvert_exporter": "python",
   "pygments_lexer": "ipython2",
   "version": "2.7.14"
  }
 },
 "nbformat": 4,
 "nbformat_minor": 2
}
